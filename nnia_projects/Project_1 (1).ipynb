{
  "nbformat": 4,
  "nbformat_minor": 0,
  "metadata": {
    "colab": {
      "name": "Project_1.ipynb",
      "version": "0.3.2",
      "provenance": [],
      "collapsed_sections": []
    },
    "kernelspec": {
      "display_name": "Python 3",
      "language": "python",
      "name": "python3"
    }
  },
  "cells": [
    {
      "metadata": {
        "id": "RlcB4E7j11HT",
        "colab_type": "text"
      },
      "cell_type": "markdown",
      "source": [
        "# NNIA 18/19 Project 1:  PCA and & (Multiple) Linear Regression "
      ]
    },
    {
      "metadata": {
        "id": "P8usHXUr11Ha",
        "colab_type": "text"
      },
      "cell_type": "markdown",
      "source": [
        "## Deadline: 07. December 2018, 23:59"
      ]
    },
    {
      "metadata": {
        "id": "Pix2TNNX11He",
        "colab_type": "text"
      },
      "cell_type": "markdown",
      "source": [
        "**Important:** For all implementations in this project, make sure to use NumPy whenever possible. Most computations on vectors and matrices can be implemented very efficiently using the NumPy API. There is no need for looping over vectors etc. As a simple example, in order to compute the mean of a vector, just use `numpy.mean()`. If you are not familiar with NumPy please consult the NumPy tutorial that you find in the CMS under *Materials*. Further, in case of any doubts, the Forum is the best place to ask questions and discuss the project.  "
      ]
    },
    {
      "metadata": {
        "id": "H_6dpXJn11Hw",
        "colab_type": "text"
      },
      "cell_type": "markdown",
      "source": [
        "---"
      ]
    },
    {
      "metadata": {
        "id": "VuLOPF-n11Hk",
        "colab_type": "code",
        "colab": {}
      },
      "cell_type": "code",
      "source": [
        "import itertools\n",
        "import numpy as np\n",
        "import pandas as pd\n",
        "import sklearn.utils\n",
        "import matplotlib.pyplot as plt\n",
        "import matplotlib.cm as cm\n",
        "%matplotlib inline"
      ],
      "execution_count": 0,
      "outputs": []
    },
    {
      "metadata": {
        "id": "Xipfah4A11Hz",
        "colab_type": "text"
      },
      "cell_type": "markdown",
      "source": [
        "## 1. Principal Component Analysis $~$ (15.0 points)\n",
        "\n",
        "Features are our friends for prediction. For example, knowing the weight of a person is helpful for predicting his/her height. Knowing both the weight and age may improve the accuracy of our prediction. However, too many features could harm: each feature can be thought of as a dimension, $n$ features correspond to a $n$ dimensional space. In a high dimensional space ($n$ is very large), our data will distribute sparsely: if you draw unit grids in the space, the most of them will contain no data, which obstructs the learning process. This is called the *curse of dimensionality* (for more detail about the curse of dimensionality, see [here](http://www.visiondummy.com/2014/04/curse-dimensionality-affect-classification/)).\n",
        "\n",
        "\n",
        "To overcome the curse of dimensionality, we simply reduce the dimensionality (i.e. reduce the number of features). We can either select a subset of all features, or we can apply PCA on our dataset. By specifying a $d$ ($d$<$n$), PCA will project our $n$ dimensional data onto a $d$ dimensional (affine) space. The assumption is that classification/regression should be easier in this $d$ dimensional space.\n",
        "\n",
        "A tutorial of PCA can be found here: [PCA Tutorial](http://www.iro.umontreal.ca/~pift6080/H09/documents/papers/pca_tutorial.pdf) \n",
        "\n",
        "The goal of this exercise is to apply PCA on a small dataset: [The Digits Dataset](https://scikit-learn.org/stable/modules/generated/sklearn.datasets.load_digits.html#sklearn.datasets.load_digits) "
      ]
    },
    {
      "metadata": {
        "id": "SMT7ksv611H3",
        "colab_type": "text"
      },
      "cell_type": "markdown",
      "source": [
        "#### 1.1. Data Normalization\n",
        "Before applying PCA to our data, we first need to center the features by subtracting the mean of each feature. That is, given a design matrix $X \\in \\mathbb{R}^{n \\times d}$ ($n$ samples, each with $d$ dimensional features), we apply the following formula:\n",
        "\n",
        "\\begin{equation*}\n",
        "  \\hat{x_{ij}} = x_{ij} - \\mu(x_i) \\textrm{ for } i = 1,\\cdots, d, j = 1,\\cdots,n\n",
        "\\end{equation*}\n",
        "\n",
        "where $\\mu(x_i)$ is the mean of the $i$-th column of $X$.\n",
        "\n",
        "**Question 1:** Is this centering step important regarding the performance of the PCA? What might happen if we don't center our data? (1 point)"
      ]
    },
    {
      "metadata": {
        "id": "7UUF7s0D11H6",
        "colab_type": "text"
      },
      "cell_type": "markdown",
      "source": [
        "*Answer:*  \n",
        "Centering is important for PCA. It makes the mean of the dataset 0. If the data is not centered prior to PCA then the resultant 1st component may differ from the actual direction of variance in the data."
      ]
    },
    {
      "metadata": {
        "id": "Yta55uQF11H9",
        "colab_type": "text"
      },
      "cell_type": "markdown",
      "source": [
        "---\n",
        "**Points:** $0.0$ of $1.0$\n",
        "**Comments:** None\n",
        "\n",
        "---"
      ]
    },
    {
      "metadata": {
        "id": "10R8nzJt11IA",
        "colab_type": "text"
      },
      "cell_type": "markdown",
      "source": [
        "**Task 1:** Implement the following function which performs data normalization (i.e. normalize the columns of $X$) according to the description above. (1 point)"
      ]
    },
    {
      "metadata": {
        "id": "wuYlBZiK11IF",
        "colab_type": "code",
        "colab": {}
      },
      "cell_type": "code",
      "source": [
        "def data_normalization(data):\n",
        "  #data_reshape = data.reshape(data.shape[1])\n",
        "  data_normalized = data - np.mean(data,axis=0)\n",
        "  return data_normalized\n",
        "  \n",
        "  \n",
        "    # TODO: implement\n",
        "   #print(data.shape)\n",
        "\n",
        "    \n",
        "   "
      ],
      "execution_count": 0,
      "outputs": []
    },
    {
      "metadata": {
        "id": "SEy0n1u811IO",
        "colab_type": "text"
      },
      "cell_type": "markdown",
      "source": [
        "---\n",
        "**Points:** $0.0$ of $1.0$\n",
        "**Comments:** None\n",
        "\n",
        "---"
      ]
    },
    {
      "metadata": {
        "id": "G5l90Gm-11IR",
        "colab_type": "text"
      },
      "cell_type": "markdown",
      "source": [
        "#### 1.2  Apply PCA on Digits Dataset\n",
        "In the following we will apply PCA on the digits dataset from sklearn. This dataset consists of 1797 images of size 8X8, each images contain a handwritten digit (0-9).\n",
        "The digits look as follows:\n",
        "![Image of digits](https://scikit-learn.org/stable/_images/sphx_glr_plot_digits_classification_001.png)"
      ]
    },
    {
      "metadata": {
        "id": "6nilqKhI11IT",
        "colab_type": "code",
        "colab": {}
      },
      "cell_type": "code",
      "source": [
        "# import the digits dataset\n",
        "from sklearn import datasets\n",
        "from sklearn import utils"
      ],
      "execution_count": 0,
      "outputs": []
    },
    {
      "metadata": {
        "id": "nKFLFJ8011Ih",
        "colab_type": "code",
        "outputId": "c7548552-741c-4679-8404-ecf0fd00d8c6",
        "colab": {
          "base_uri": "https://localhost:8080/",
          "height": 286
        }
      },
      "cell_type": "code",
      "source": [
        "# perform data normalization\n",
        "data_matrix = datasets.load_digits().data\n",
        "targets = datasets.load_digits().target\n",
        "data_normalized = data_normalization(data_matrix)\n",
        "data_normalized.mean(axis=0)\n",
        "\n",
        "#print(data_normalized.shape)\n",
        "#print(\"DM\",data_matrix[0:2])\n",
        "#print(\"DN\",data_normalized[0:2])\n",
        "#print(data_normalized.shape)"
      ],
      "execution_count": 0,
      "outputs": [
        {
          "output_type": "execute_result",
          "data": {
            "text/plain": [
              "array([ 0.00000000e+00, -1.23910033e-15,  4.92378042e-15,  3.92044030e-15,\n",
              "        1.36118162e-15, -1.73286229e-15, -1.47214214e-15, -4.54993738e-16,\n",
              "       -5.88087669e-18,  5.09442238e-15,  1.78920750e-15, -1.86828850e-15,\n",
              "        5.33005903e-15, -7.62835043e-15,  2.86989872e-15,  5.59220017e-16,\n",
              "        3.26460092e-17,  3.32535582e-15,  1.96615123e-15, -3.14050399e-15,\n",
              "        5.26580572e-15,  2.44508550e-15, -2.36130907e-16, -4.61071545e-16,\n",
              "       -1.87662907e-18, -1.02063909e-15, -2.78365101e-15, -3.34908012e-15,\n",
              "       -3.08514730e-15, -4.52738694e-15, -4.62722669e-15, -1.04257171e-17,\n",
              "        0.00000000e+00,  1.74126465e-15, -4.07316547e-15, -2.69863894e-16,\n",
              "       -2.91018060e-15, -4.08255634e-16, -5.83790729e-15,  0.00000000e+00,\n",
              "       -1.76542142e-17,  1.04411626e-15,  5.59893441e-15, -5.58509524e-16,\n",
              "        6.54592932e-15, -2.27357859e-15,  1.97331794e-15,  1.56482290e-16,\n",
              "        6.86340399e-17, -5.92118946e-16,  8.58028791e-16, -5.83420037e-15,\n",
              "        3.58138054e-15,  3.90462410e-16,  5.69877417e-15, -6.90228805e-16,\n",
              "        6.56820174e-18, -5.14644285e-16, -9.78627307e-16,  4.37713305e-15,\n",
              "       -1.28506616e-16, -3.21859648e-15, -5.63130819e-15, -9.39395720e-16])"
            ]
          },
          "metadata": {
            "tags": []
          },
          "execution_count": 8
        }
      ]
    },
    {
      "metadata": {
        "id": "7bnXEMlmnnY3",
        "colab_type": "code",
        "outputId": "cf2fd366-57d4-40d4-bcdd-422d3b297548",
        "colab": {
          "base_uri": "https://localhost:8080/",
          "height": 34
        }
      },
      "cell_type": "code",
      "source": [
        "len(targets.tolist())"
      ],
      "execution_count": 0,
      "outputs": [
        {
          "output_type": "execute_result",
          "data": {
            "text/plain": [
              "1797"
            ]
          },
          "metadata": {
            "tags": []
          },
          "execution_count": 9
        }
      ]
    },
    {
      "metadata": {
        "id": "TXrC2ioi11Is",
        "colab_type": "text"
      },
      "cell_type": "markdown",
      "source": [
        "Before applying PCA, let's take a look on a subset of original features and analyse whether they are discriminative for digits classification.\n",
        "\n",
        "**Task 2:** Implement the following using matplotlib: (2 points)\n",
        "1. Construct a 2D scatter plot. Plot the value of feature 0 (on $x$ axis) and feature 2 (on $y$ axis) for each data point, use different colors indicating different classes. \n",
        "2. Set corresponding labels: assign label \"feature 0\" for $x$ axis and \"feature 2\" for $y$ axis.\n",
        "3. Set the title of the plot as \"A subset of original features\".\n",
        "4. Show legends for each class.\n",
        "5. After you have finished the first four steps and plotted the graph, you might observe that many data points overlap. This is because many data points have exactly the same value w.r.t. feature 0 and feature 2. In order to have a better visualization, please jitter the data points in your scatter plot, this step is called jittering. For more details about jittering, see [here](https://stats.stackexchange.com/questions/253009/why-jitter-continuous-value-in-a-scatterplot).\n",
        "\n"
      ]
    },
    {
      "metadata": {
        "id": "4IH43AB_kASu",
        "colab_type": "code",
        "colab": {}
      },
      "cell_type": "code",
      "source": [
        "def rand_jitter(arr):\n",
        "    stdev = arr.max()/100.\n",
        "    return arr + np.random.randn(len(arr)) * stdev*0.5"
      ],
      "execution_count": 0,
      "outputs": []
    },
    {
      "metadata": {
        "id": "kGcnktb111Iv",
        "colab_type": "code",
        "outputId": "0017be52-e714-4ee0-c95d-52c3eb1771e4",
        "colab": {
          "base_uri": "https://localhost:8080/",
          "height": 310
        }
      },
      "cell_type": "code",
      "source": [
        "'''# TODO: Construct a 2D scatter plot\n",
        "#print(targets[:3])\n",
        "fig = plt.figure(figsize=(12, 8))\n",
        "ax = fig.add_subplot(1,1,1)\n",
        "x = data_normalized[:,0] \n",
        "y = data_normalized[:,2]\n",
        "# ax.scatter(x,y, alpha=0.2,c=targets,cmap='viridis',label=set(targets))\n",
        "# adding jitter\n",
        "ax.scatter(rand_jitter(x), rand_jitter(y), alpha=0.5,c=targets,cmap='Set1',label=set(targets))\n",
        "#plt.show()\n",
        "ax.set_xlabel(\"feature 0\")\n",
        "ax.set_ylabel(\"feature 2\")\n",
        "ax.set_title(\"A subset of original features\")\n",
        "#plt.legend()\n",
        "#ax.legend()\n",
        "ax.legend()\n",
        "#ax.legend(targets)\n",
        "#handles, labels = ax.get_legend_handles_labels()\n",
        "#ax.legend(handles, labels)\n",
        "plt.show()\n",
        "#handles, labels = ax.get_legend_handles_labels()\n",
        "#ax.legend(handles, labels)'''\n",
        "\n",
        "\n",
        "colors = np.linspace(0,1,10)\n",
        "for c in range(10):\n",
        "  x = data_normalized[targets==c , 0]\n",
        "  x = x + np.random.uniform(-0.03, 0.03, x.shape[0])\n",
        "  y = data_normalized[targets==c , 2]\n",
        "  y = y + np.random.uniform(-0.03, 0.03, y.shape[0])\n",
        "  \n",
        "  plt.scatter(x,y,c=[cm.jet(colors[c])] * len(y), label = str(c))\n",
        "  \n",
        "plt.xlabel(\"feature 0\")\n",
        "plt.ylabel(\"feature 2\")\n",
        "plt.title(\"A subset of original features\")\n",
        "plt.legend()\n",
        "plt.show"
      ],
      "execution_count": 0,
      "outputs": [
        {
          "output_type": "execute_result",
          "data": {
            "text/plain": [
              "<function matplotlib.pyplot.show>"
            ]
          },
          "metadata": {
            "tags": []
          },
          "execution_count": 11
        },
        {
          "output_type": "display_data",
          "data": {
            "image/png": "[encoded data removed]",
            "text/plain": [
              "<Figure size 432x288 with 1 Axes>"
            ]
          },
          "metadata": {
            "tags": []
          }
        }
      ]
    },
    {
      "metadata": {
        "id": "S3vkn2Le11I3",
        "colab_type": "text"
      },
      "cell_type": "markdown",
      "source": [
        "---\n",
        "**Points:** $0.0$ of $2.0$\n",
        "**Comments:** None\n",
        "\n",
        "---"
      ]
    },
    {
      "metadata": {
        "id": "yCpnWPi511I_",
        "colab_type": "text"
      },
      "cell_type": "markdown",
      "source": [
        "**Question 2:** What is the dimensionality of the new feature space? Is is easy to perform digit classification in this feature space? Justify your answer. (1 point)"
      ]
    },
    {
      "metadata": {
        "id": "T4f70ztL11JC",
        "colab_type": "text"
      },
      "cell_type": "markdown",
      "source": [
        "*Answer:* \n",
        "The new feature space is 2 dimensional, because we have chosen 2 features from the original dataset. It is not easy to perform classification in this feature space because, as seen in the scatter plot above, there is a significant amount of overlap between the classes. We can see that it distinguishes 2 groups: digits 1-5 and digits 6-9. However, the chosen features are not informative enough on their own."
      ]
    },
    {
      "metadata": {
        "id": "LEcnVj7C11JE",
        "colab_type": "text"
      },
      "cell_type": "markdown",
      "source": [
        "---\n",
        "**Points:** $0.0$ of $1.0$\n",
        "**Comments:** None\n",
        "\n",
        "---"
      ]
    },
    {
      "metadata": {
        "id": "1KLZfzAh11JH",
        "colab_type": "text"
      },
      "cell_type": "markdown",
      "source": [
        "**Task 3:** Implement the function `PCA()` below. The input of this function is a normalized dataset and a parameter $d$, which specifies the output dimension (dimension of the projected space). The output should be a dataset/matrix of $\\mathbb{R}^{n \\times d}$. (Hint: `numpy.linalg.eig()` might be helpful here.) (4 points)"
      ]
    },
    {
      "metadata": {
        "id": "0SK8chVg11JK",
        "colab_type": "code",
        "colab": {}
      },
      "cell_type": "code",
      "source": [
        "def PCA(data, d):\n",
        "    \"\"\"\n",
        "    perform PCA on a dataset\n",
        "    :param data: input dataset with shape (n,k).\n",
        "    :param d: dimension of the output space.\n",
        "    :return: a matrix of shape (n,d). where each row represents the (PCA) projection of each data point.\n",
        "    \"\"\"\n",
        "    # TODO: implement\n",
        "    print(data.shape)\n",
        "    data_cov = np.dot(data.T,data)\n",
        "    print(data_cov.shape)\n",
        "    E,V = np.linalg.eig(data_cov)\n",
        "    key = np.argsort(E)[::-1][:d]\n",
        "    E, V = E[key], V[:, key]\n",
        "    U = np.dot(data, V)\n",
        "    print(U.shape)# used to be dot(V.T, data.T).T\n",
        "    return U\n",
        "   # print(e_val,e_vec)\n",
        "    # REMARK: note the eigenvalues/eigenvectors returned by np.linalg.eig() might not be ordered. You may want to order them first. \n",
        "    \n",
        "    pass\n",
        "  "
      ],
      "execution_count": 0,
      "outputs": []
    },
    {
      "metadata": {
        "id": "GyifcH0V11JU",
        "colab_type": "text"
      },
      "cell_type": "markdown",
      "source": [
        "---\n",
        "**Points:** $0.0$ of $4.0$\n",
        "**Comments:** None\n",
        "\n",
        "---"
      ]
    },
    {
      "metadata": {
        "id": "oOXhDbl011JW",
        "colab_type": "text"
      },
      "cell_type": "markdown",
      "source": [
        "**Task 4:** Apply `PCA()` on the normalized dataset using $d=2$, then construct a 2D scatter plot presenting the data points in the projected space. (2 points)\n",
        "\n",
        "Requirements for the 2D scatter plot:\n",
        "1. Plot the value of the first principle components (on $x$ axis) and the second principle components (on $y$ axis) of each data point, use different colors for each class. \n",
        "2. Set corresponding labels: assign label \"first principle component\" for $x$ axis and \"second principle component\" for $y$ axis.\n",
        "3. Set the title of the plot as \"2 component PCA\".\n",
        "4. Add legends for each class.\n"
      ]
    },
    {
      "metadata": {
        "id": "KS_2c9Dp11JX",
        "colab_type": "code",
        "outputId": "d6d960b4-2217-4dae-825b-ad75899fdb31",
        "colab": {
          "base_uri": "https://localhost:8080/",
          "height": 185
        }
      },
      "cell_type": "code",
      "source": [
        "# TODO: perform PCA on mean centered dataset\n",
        "d=2\n",
        "transformed_data = PCA(data_normalized,2)\n",
        "print(transformed_data)\n"
      ],
      "execution_count": 0,
      "outputs": [
        {
          "output_type": "stream",
          "text": [
            "(1797, 64)\n",
            "(64, 64)\n",
            "(1797, 2)\n",
            "[[  1.25946645 -21.27488348]\n",
            " [ -7.9576113   20.76869896]\n",
            " [ -6.99192297   9.95598641]\n",
            " ...\n",
            " [-10.8012837    6.96025223]\n",
            " [  4.87210009 -12.42395362]\n",
            " [  0.34438963  -6.36554919]]\n"
          ],
          "name": "stdout"
        }
      ]
    },
    {
      "metadata": {
        "scrolled": true,
        "id": "aV8yoan211Jj",
        "colab_type": "code",
        "outputId": "c14811cd-8cac-4f6e-8e1e-790d8fe3630c",
        "colab": {
          "base_uri": "https://localhost:8080/",
          "height": 310
        }
      },
      "cell_type": "code",
      "source": [
        "\n",
        "\n",
        "'''# TODO: Construct a 2D scatter plot\n",
        "fig, ax = plt.subplots()\n",
        "x = transformed_data[:,0]\n",
        "y = transformed_data[:,1]\n",
        "ax.scatter(x, y, alpha=0.5,c=targets,cmap='Set1',label=set(targets))\n",
        "\n",
        "plt.xlabel(\"first principle component\")\n",
        "plt.ylabel(\"second principle component\")\n",
        "plt.title(\"2 component PCA\")\n",
        "\n",
        "ax.legend()\n",
        "\n",
        "plt.show()'''\n",
        "\n",
        "\n",
        "colors = np.linspace(0,1,10)\n",
        "for c in range(10):\n",
        "  x = transformed_data[targets==c , 0]\n",
        "  #x = x + np.random.uniform(-0.03, 0.03, x.shape[0])\n",
        "  y = transformed_data[targets==c , 1]\n",
        "  #y = y + np.random.uniform(-0.03, 0.03, y.shape[0])\n",
        "  \n",
        "  plt.scatter(x,y,c=[cm.jet(colors[c])] * len(y), label = str(c))\n",
        "  \n",
        "plt.xlabel(\"first principle component\")\n",
        "plt.ylabel(\"second principle component\")\n",
        "plt.title(\"2 component PCA\")\n",
        "plt.legend()\n",
        "plt.show"
      ],
      "execution_count": 0,
      "outputs": [
        {
          "output_type": "execute_result",
          "data": {
            "text/plain": [
              "<function matplotlib.pyplot.show>"
            ]
          },
          "metadata": {
            "tags": []
          },
          "execution_count": 24
        },
        {
          "output_type": "display_data",
          "data": {
            "image/png": "[encoded data removed]",
            "text/plain": [
              "<Figure size 432x288 with 1 Axes>"
            ]
          },
          "metadata": {
            "tags": []
          }
        }
      ]
    },
    {
      "metadata": {
        "id": "YOYfb_Vv11Jr",
        "colab_type": "text"
      },
      "cell_type": "markdown",
      "source": [
        "---\n",
        "**Points:** $0.0$ of $2.0$\n",
        "**Comments:** None\n",
        "\n",
        "---"
      ]
    },
    {
      "metadata": {
        "id": "HfcXr0Xq11Js",
        "colab_type": "text"
      },
      "cell_type": "markdown",
      "source": [
        "**Question 3:** Is it easier to perform classification on the transformed space? Justify your answer. (1 point)"
      ]
    },
    {
      "metadata": {
        "id": "QsjbOeOe11Jv",
        "colab_type": "text"
      },
      "cell_type": "markdown",
      "source": [
        "*Answer:* \n",
        "It is easier to perform classification on the transformed space as compared to the original space, because the top 2 principle components account for a large amount of variance in the dataset. In the scatterplot, we can see clear clusters emerging for different digits. So even though the dimensionality of data is the same as Task2, the PCA features are very informative."
      ]
    },
    {
      "metadata": {
        "id": "RG_lJmbT11Jx",
        "colab_type": "text"
      },
      "cell_type": "markdown",
      "source": [
        "---\n",
        "**Points:** $0.0$ of $1.0$\n",
        "**Comments:** None\n",
        "\n",
        "---"
      ]
    },
    {
      "metadata": {
        "id": "ofMvb4ht11J7",
        "colab_type": "text"
      },
      "cell_type": "markdown",
      "source": [
        "**Question 4:** Now, modify the function  `data_normalization()` you implemented above: in additional to centering, divide each feature/column by its standard deviation. Then apply `PCA()` on this standardized data. Does the performance of PCA improve? Describe your findings (instead of modifying the original function you implemented above, please implement it again in the cell below). (2 points)\n",
        "\n",
        "***Remark:*** One problem could occur when you divide the feature by its standard deviation: the standard deviation might be zero and division by zero is undefined. However, a standard deviation of zero can only be possible when all the values of a feature/column are the same (all equal to the mean). In this case, those features have no discriminative power so they can be removed from the analysis. Your implementation should be able to handle this case: all columns with zero standard deviation should be removed before standardize the data."
      ]
    },
    {
      "metadata": {
        "id": "93LVEtny11J9",
        "colab_type": "code",
        "outputId": "0f1a52c6-ef6e-4592-e787-2527f5673f46",
        "colab": {
          "base_uri": "https://localhost:8080/",
          "height": 898
        }
      },
      "cell_type": "code",
      "source": [
        "\n",
        "def data_normalization_modified(data):\n",
        "  #data_normalized_mean = data - np.mean(data,axis=0)\n",
        "  #data_normalized_mean = data - data.mean()\n",
        "  '''data_std = np.std(data_normalized_mean,axis = 0)\n",
        "  #checking for 0 standard deviation\n",
        "  zero_std = np.where(data_std == 0)[0]\n",
        "  print(zero_std)'''\n",
        "  #since, there is no 0 standard deviation\n",
        "  sd = np.std(data,axis = 0)\n",
        "  print(sd)\n",
        "  data = data[:, sd!=0]\n",
        "  print(data.shape)\n",
        "  data_normalization_modified = (data - np.mean(data,axis=0)) / np.std(data,axis=0)\n",
        "  return data_normalization_modified\n",
        "  \n",
        "data_normalized_modified = data_normalization_modified(data_matrix)\n",
        "print(data_normalized_modified)\n",
        "transformed_data_modified = PCA(data_normalized_modified,2)\n",
        "print(transformed_data_modified)\n",
        "\n",
        "# TODO: Construct a 2D scatter plot\n",
        "'''fig, ax = plt.subplots()\n",
        "x = transformed_data_modified[:,0]\n",
        "y = transformed_data_modified[:,1]\n",
        "ax.scatter(x, y, alpha=0.5,c=targets,cmap='Set1',label=set(targets))\n",
        "\n",
        "plt.xlabel(\"first principle component\")\n",
        "plt.ylabel(\"second principle component\")\n",
        "plt.title(\"2 component PCA\")\n",
        "\n",
        "ax.legend()\n",
        "\n",
        "plt.show()'''\n",
        "\n",
        "colors = np.linspace(0,1,10)\n",
        "for c in range(10):\n",
        "  x = transformed_data_modified[targets==c , 0]\n",
        "  #x = x + np.random.uniform(-0.03, 0.03, x.shape[0])\n",
        "  y = transformed_data_modified[targets==c , 1]\n",
        "  #y = y + np.random.uniform(-0.03, 0.03, y.shape[0])\n",
        "  \n",
        "  plt.scatter(x,y,c=[cm.jet(colors[c])] * len(y), label = str(c))\n",
        "  \n",
        "plt.xlabel(\"first principle component\")\n",
        "plt.ylabel(\"second principle component\")\n",
        "plt.title(\"2 component PCA\")\n",
        "plt.legend()\n",
        "plt.show\n"
      ],
      "execution_count": 0,
      "outputs": [
        {
          "output_type": "stream",
          "text": [
            "[0.         0.90693964 4.75350317 4.24765948 4.28619491 5.66484088\n",
            " 3.32484969 1.03709417 0.09419533 3.19527098 5.41994694 3.97643575\n",
            " 4.78134964 6.05127561 3.58532293 0.82768465 0.06235094 3.57530605\n",
            " 5.68918332 5.80104695 6.17400993 6.19559718 3.25896254 0.43847543\n",
            " 0.03334258 3.14565685 6.19031469 5.88129939 6.15038083 5.87092136\n",
            " 3.68543009 0.04712725 0.         3.4794038  6.32292731 6.26664682\n",
            " 5.93183902 5.86901393 3.53629836 0.         0.14514503 2.98098645\n",
            " 6.53613529 6.43958504 6.25776954 5.69394162 4.32974601 0.30727036\n",
            " 0.20416633 1.74566694 5.64292531 5.22549314 5.30057302 6.02947606\n",
            " 4.91803706 0.98412698 0.02358333 0.9340418  5.1015993  4.37347662\n",
            " 4.93257433 5.89898069 4.08940957 1.85960409]\n",
            "(1797, 61)\n",
            "[[-0.33501649 -0.04308102  0.27407152 ... -1.14664746 -0.5056698\n",
            "  -0.19600752]\n",
            " [-0.33501649 -1.09493684  0.03864775 ...  0.54856067 -0.5056698\n",
            "  -0.19600752]\n",
            " [-0.33501649 -1.09493684 -1.84474239 ...  1.56568555  1.6951369\n",
            "  -0.19600752]\n",
            " ...\n",
            " [-0.33501649 -0.88456568 -0.19677602 ... -0.12952258 -0.5056698\n",
            "  -0.19600752]\n",
            " [-0.33501649 -0.67419451 -0.43219978 ...  0.8876023  -0.5056698\n",
            "  -0.19600752]\n",
            " [-0.33501649  1.00877481  0.50949529 ...  0.8876023  -0.26113572\n",
            "  -0.19600752]]\n",
            "(1797, 61)\n",
            "(61, 61)\n",
            "(1797, 2)\n",
            "[[ 1.91421366  0.95450157]\n",
            " [ 0.58898033 -0.9246358 ]\n",
            " [ 1.30203906  0.31718883]\n",
            " ...\n",
            " [ 1.02259599  0.14791087]\n",
            " [ 1.07605522  0.38090625]\n",
            " [-1.25770233  2.22759088]]\n"
          ],
          "name": "stdout"
        },
        {
          "output_type": "execute_result",
          "data": {
            "text/plain": [
              "<function matplotlib.pyplot.show>"
            ]
          },
          "metadata": {
            "tags": []
          },
          "execution_count": 12
        },
        {
          "output_type": "display_data",
          "data": {
            "image/png": "[encoded data removed]",
            "text/plain": [
              "<matplotlib.figure.Figure at 0x7f5b7deb6908>"
            ]
          },
          "metadata": {
            "tags": []
          }
        }
      ]
    },
    {
      "metadata": {
        "id": "bMcNgYao11KF",
        "colab_type": "text"
      },
      "cell_type": "markdown",
      "source": [
        "*Answer:* In the scatterplot, we can see that the clusters obtained after normalisation are denser and more cohesive. However, the overlap among the classes has also increased after normalisaing the data, because the variance of the dataset has decreased. The principle components  obtained account for less variance in this case as compared to before, but this is expected because the total variance in the dataset has gone down.\n"
      ]
    },
    {
      "metadata": {
        "id": "ZCsggXE_1xyi",
        "colab_type": "code",
        "colab": {}
      },
      "cell_type": "code",
      "source": [
        ""
      ],
      "execution_count": 0,
      "outputs": []
    },
    {
      "metadata": {
        "id": "GAMRe3NU11KH",
        "colab_type": "text"
      },
      "cell_type": "markdown",
      "source": [
        "---\n",
        "**Points:** $0.0$ of $1.0$\n",
        "**Comments:** None\n",
        "\n",
        "---"
      ]
    },
    {
      "metadata": {
        "id": "4GbcDnex11KJ",
        "colab_type": "text"
      },
      "cell_type": "markdown",
      "source": [
        "Finally, consider and the following (artificially generated) dataset:"
      ]
    },
    {
      "metadata": {
        "id": "prhvIRMR11KL",
        "colab_type": "code",
        "outputId": "2b3efbe7-319d-4817-e9db-496aab60bb77",
        "colab": {
          "base_uri": "https://localhost:8080/",
          "height": 446
        }
      },
      "cell_type": "code",
      "source": [
        "x = np.random.normal(loc=0.0, scale=2.0, size=100)\n",
        "y = np.random.binomial(1, 0.5, size=100) - 0.5\n",
        "\n",
        "fig = plt.figure(figsize = (7, 7))\n",
        "ax = fig.add_subplot(1,1,1) \n",
        "ax.set_xlabel('feature 0', fontsize = 15,)\n",
        "ax.set_ylabel('feature 1', fontsize = 15)\n",
        "ax.scatter(x,y,s = 10,);"
      ],
      "execution_count": 0,
      "outputs": [
        {
          "output_type": "display_data",
          "data": {
            "image/png": "[encoded data removed]",
            "text/plain": [
              "<matplotlib.figure.Figure at 0x7f5b7de27400>"
            ]
          },
          "metadata": {
            "tags": []
          }
        }
      ]
    },
    {
      "metadata": {
        "id": "kJJvcUHK11KS",
        "colab_type": "text"
      },
      "cell_type": "markdown",
      "source": [
        "**Question 5:** Is PCA suitable for the above dataset? Justify your answer. (1 point)"
      ]
    },
    {
      "metadata": {
        "id": "Zjd1TQLL11Kh",
        "colab_type": "text"
      },
      "cell_type": "markdown",
      "source": [
        "*Answer:*  PCA is not suitable for this dataset because PCA assumes that the data follows a Gaussian distribution. When the data does not follow a Gaussian distribution, it is difficult to extract independent statistical components by PCA.\n",
        "\n"
      ]
    },
    {
      "metadata": {
        "id": "54z6Xl5G11Kk",
        "colab_type": "text"
      },
      "cell_type": "markdown",
      "source": [
        "---\n",
        "**Points:** $0.0$ of $1.0$\n",
        "**Comments:** None\n",
        "\n",
        "---"
      ]
    },
    {
      "metadata": {
        "id": "2KrvW7St11Kp",
        "colab_type": "text"
      },
      "cell_type": "markdown",
      "source": [
        "## Multiple Linear Regression (15.0 points)\n",
        "\n",
        "In this exercise we will deal with *multiple linear regression*. Performing regression on one independent (or explanatory) variable and a scalar dependent variable is called **simple linear regression**.\n",
        "But, when there are more than one explanatory variable (i.e. $x^{(1)}, x^{(2)}, ...,x^{(k)}$), and a single scalar dependent variable (*y*), then it's called **multiple linear regression**. (Please don't confuse this with *multivariate linear regression* where we predict more than one (correlated) dependent variable.)\n",
        "\n",
        "Here, we will implement a **multiple linear regression** model in Python/NumPy using the *Gradient Descent* algorithm. Particularly, we will be using **stochastic gradient descent** (*SGD*) where one performs the update step using a small set of training samples of size *batch_size* which we will set to 64, i.e. we go through the training samples sampling 64 at a time and perform gradient descent. Such a procedure is sometimes called **mini-batch gradient descent** in the deep learning community.\n",
        "\n",
        "Going through all the training samples *once* is called an **epoch**. Ideally, the algorithm has to go through multiple epochs over the training samples, each time shuffling it, until a convergence criterion has been satisfied.\n",
        "\n",
        "Here, we will set a *tolerance value* for the difference in error (i.e. change in mean squared error (MSE) values between subsequent epochs) that we will accept. Once this difference falls below the *tolerance value*, we terminate our training phase and return the parameters. \n",
        "\n",
        "We repeat the above training procedure for all possible hyperparameter combinations in order to find the best parameters (i.e. weights) for our model. For this so called *hyperparameter tuning* we will be using the validation data. \n",
        "\n",
        "As a next step, we will combine training data and validation data and make it as our *new training data*. We keep the test data as it is. Using the hyperparameter combination (for the least MSE) that we found above, we train the model *again* with the *new training data* and obtain the parameter (*i.e. weight vector*) after convergence according to our *tolerance value*.\n",
        "\n",
        "Phew! That will be our much desired *weight vector*. This is then used on the *test data*, which has not been seen by our algorithm so far, to make a prediction. The resulting MSE value will be the so-called [*generalization error*](https://en.wikipedia.org/wiki/Generalization_error). It is this *generalization error* that we want it to be as low as possible for *unseen data* (implies that we can achieve higher accuracy)."
      ]
    },
    {
      "metadata": {
        "id": "PUqc6WWe11Ks",
        "colab_type": "text"
      },
      "cell_type": "markdown",
      "source": [
        "#### 2.1 Dataset\n",
        "For our task, we will be using the *Wine Quality* dataset and predict the quality of white wine based on 11 features such as acidity, citric acid content, residual sugar etc. . You can take a glance of the data using functions like *data.head()*."
      ]
    },
    {
      "metadata": {
        "id": "w9rrYgHp11Ku",
        "colab_type": "code",
        "outputId": "07159a98-d87e-45b3-91d2-fd2c3d67492e",
        "colab": {
          "base_uri": "https://localhost:8080/",
          "height": 212
        }
      },
      "cell_type": "code",
      "source": [
        "# get data\n",
        "data_url = 'http://mlr.cs.umass.edu/ml/machine-learning-databases/wine-quality/winequality-white.csv'\n",
        "data = pd.read_csv(data_url, sep=';')\n",
        "\n",
        "# inspect data\n",
        "display(data.head())\n",
        "print(data.shape)"
      ],
      "execution_count": 0,
      "outputs": [
        {
          "output_type": "display_data",
          "data": {
            "text/html": [
              "<div>\n",
              "<style scoped>\n",
              "    .dataframe tbody tr th:only-of-type {\n",
              "        vertical-align: middle;\n",
              "    }\n",
              "\n",
              "    .dataframe tbody tr th {\n",
              "        vertical-align: top;\n",
              "    }\n",
              "\n",
              "    .dataframe thead th {\n",
              "        text-align: right;\n",
              "    }\n",
              "</style>\n",
              "<table border=\"1\" class=\"dataframe\">\n",
              "  <thead>\n",
              "    <tr style=\"text-align: right;\">\n",
              "      <th></th>\n",
              "      <th>fixed acidity</th>\n",
              "      <th>volatile acidity</th>\n",
              "      <th>citric acid</th>\n",
              "      <th>residual sugar</th>\n",
              "      <th>chlorides</th>\n",
              "      <th>free sulfur dioxide</th>\n",
              "      <th>total sulfur dioxide</th>\n",
              "      <th>density</th>\n",
              "      <th>pH</th>\n",
              "      <th>sulphates</th>\n",
              "      <th>alcohol</th>\n",
              "      <th>quality</th>\n",
              "    </tr>\n",
              "  </thead>\n",
              "  <tbody>\n",
              "    <tr>\n",
              "      <th>0</th>\n",
              "      <td>7.0</td>\n",
              "      <td>0.27</td>\n",
              "      <td>0.36</td>\n",
              "      <td>20.7</td>\n",
              "      <td>0.045</td>\n",
              "      <td>45.0</td>\n",
              "      <td>170.0</td>\n",
              "      <td>1.0010</td>\n",
              "      <td>3.00</td>\n",
              "      <td>0.45</td>\n",
              "      <td>8.8</td>\n",
              "      <td>6</td>\n",
              "    </tr>\n",
              "    <tr>\n",
              "      <th>1</th>\n",
              "      <td>6.3</td>\n",
              "      <td>0.30</td>\n",
              "      <td>0.34</td>\n",
              "      <td>1.6</td>\n",
              "      <td>0.049</td>\n",
              "      <td>14.0</td>\n",
              "      <td>132.0</td>\n",
              "      <td>0.9940</td>\n",
              "      <td>3.30</td>\n",
              "      <td>0.49</td>\n",
              "      <td>9.5</td>\n",
              "      <td>6</td>\n",
              "    </tr>\n",
              "    <tr>\n",
              "      <th>2</th>\n",
              "      <td>8.1</td>\n",
              "      <td>0.28</td>\n",
              "      <td>0.40</td>\n",
              "      <td>6.9</td>\n",
              "      <td>0.050</td>\n",
              "      <td>30.0</td>\n",
              "      <td>97.0</td>\n",
              "      <td>0.9951</td>\n",
              "      <td>3.26</td>\n",
              "      <td>0.44</td>\n",
              "      <td>10.1</td>\n",
              "      <td>6</td>\n",
              "    </tr>\n",
              "    <tr>\n",
              "      <th>3</th>\n",
              "      <td>7.2</td>\n",
              "      <td>0.23</td>\n",
              "      <td>0.32</td>\n",
              "      <td>8.5</td>\n",
              "      <td>0.058</td>\n",
              "      <td>47.0</td>\n",
              "      <td>186.0</td>\n",
              "      <td>0.9956</td>\n",
              "      <td>3.19</td>\n",
              "      <td>0.40</td>\n",
              "      <td>9.9</td>\n",
              "      <td>6</td>\n",
              "    </tr>\n",
              "    <tr>\n",
              "      <th>4</th>\n",
              "      <td>7.2</td>\n",
              "      <td>0.23</td>\n",
              "      <td>0.32</td>\n",
              "      <td>8.5</td>\n",
              "      <td>0.058</td>\n",
              "      <td>47.0</td>\n",
              "      <td>186.0</td>\n",
              "      <td>0.9956</td>\n",
              "      <td>3.19</td>\n",
              "      <td>0.40</td>\n",
              "      <td>9.9</td>\n",
              "      <td>6</td>\n",
              "    </tr>\n",
              "  </tbody>\n",
              "</table>\n",
              "</div>"
            ],
            "text/plain": [
              "   fixed acidity  volatile acidity  citric acid  residual sugar  chlorides  \\\n",
              "0            7.0              0.27         0.36            20.7      0.045   \n",
              "1            6.3              0.30         0.34             1.6      0.049   \n",
              "2            8.1              0.28         0.40             6.9      0.050   \n",
              "3            7.2              0.23         0.32             8.5      0.058   \n",
              "4            7.2              0.23         0.32             8.5      0.058   \n",
              "\n",
              "   free sulfur dioxide  total sulfur dioxide  density    pH  sulphates  \\\n",
              "0                 45.0                 170.0   1.0010  3.00       0.45   \n",
              "1                 14.0                 132.0   0.9940  3.30       0.49   \n",
              "2                 30.0                  97.0   0.9951  3.26       0.44   \n",
              "3                 47.0                 186.0   0.9956  3.19       0.40   \n",
              "4                 47.0                 186.0   0.9956  3.19       0.40   \n",
              "\n",
              "   alcohol  quality  \n",
              "0      8.8        6  \n",
              "1      9.5        6  \n",
              "2     10.1        6  \n",
              "3      9.9        6  \n",
              "4      9.9        6  "
            ]
          },
          "metadata": {
            "tags": []
          }
        },
        {
          "output_type": "stream",
          "text": [
            "(4898, 12)\n"
          ],
          "name": "stdout"
        }
      ]
    },
    {
      "metadata": {
        "id": "R-KwHrLk11K9",
        "colab_type": "text"
      },
      "cell_type": "markdown",
      "source": [
        "#### 2.2. Loss function\n",
        "We will use a *regularized* form of the MSE loss function. In matrix form it can be written as follows:\n",
        "\n",
        "\\begin{equation*}\n",
        "    J(\\textbf{w}) = \\frac{1}{2} \\Vert{X\\textbf{w}-\\textbf{y}}\\Vert^{2} + \\frac{\\lambda}{2}\\Vert{\\textbf{w}}\\Vert^{2}\n",
        "\\end{equation*}\n",
        "\n",
        "\n",
        "\n",
        "It's important to note that, in the above equation, $X$, called **design matrix**, consists of data points in our dataset. Each row corresponds to a data point, each column correspondings to a feature. Therefore, the dimension of $X$ is *(number of data points, number of features)*. $X$ can be also thought as of the horizontal concatenation of shape *(batch_size, num_features)*. To make things easier, you can add the *bias* term as the first column of $X$. Take care to have the *weight* vector $\\textbf{w}$ with matching dimensions. (Hint: see [Design_matrix#Multiple_regression](https://en.wikipedia.org/wiki/Design_matrix#Multiple_regression) for how $X$ with 2 features looks like for $1^{st}$ degree polynomial.)"
      ]
    },
    {
      "metadata": {
        "id": "DrOKuAaV11LA",
        "colab_type": "text"
      },
      "cell_type": "markdown",
      "source": [
        "**Task 5:** Derive the gradient (w.r.t $\\textbf{w}$) for the regularized loss function given in 2.2. (1 point)"
      ]
    },
    {
      "metadata": {
        "id": "4nDoge4L11LC",
        "colab_type": "text"
      },
      "cell_type": "markdown",
      "source": [
        "\n",
        "*Answer:*   W = (Inverse (X(T). X + Lambda.I) X(T).Y)  ,where X(T)=Transpose(X), I = Identity Matrix\n",
        "\n"
      ]
    },
    {
      "metadata": {
        "id": "Q15GLyoM11LJ",
        "colab_type": "text"
      },
      "cell_type": "markdown",
      "source": [
        "---\n",
        "**Points:** $0.0$ of $1.0$\n",
        "**Comments:** None\n",
        "\n",
        "---"
      ]
    },
    {
      "metadata": {
        "id": "RMGvm9M811LW",
        "colab_type": "text"
      },
      "cell_type": "markdown",
      "source": [
        "#### 2.3. Matrix format for higher order polynomial\n",
        "\n",
        "Written in matrix form, a linear regression model for second order would look like: <br />\n",
        "$$\\hat{\\textbf{y}} = X\\textbf{w}_{1} + X^{2}\\textbf{w}_{2} + \\textbf{b}$$\n",
        "\n",
        "where $X^{2}$ is the element-wise squaring of the original design matrix $X$, $\\textbf{w}_1$ and $\\textbf{w}_2$ are the *weight* vectors, and **b** is the *bias* vector.\n",
        "\n",
        "**Task 6:** Please write down the matrix format for a $9^{th}$ order linear regression model. (0.5 point)"
      ]
    },
    {
      "metadata": {
        "id": "N9AZlTjc11La",
        "colab_type": "text"
      },
      "cell_type": "markdown",
      "source": [
        "*Answer:*  hat(y) = [1,X,X^2,X^3,X^4,X^5,X^6,X^7,X^8.X^9] [b,W1,W2,W,3,W,4,W5,W6,W7,W8,W9].T\n",
        "\n",
        "\n"
      ]
    },
    {
      "metadata": {
        "id": "xevT1Rr911Lj",
        "colab_type": "text"
      },
      "cell_type": "markdown",
      "source": [
        "---\n",
        "**Points:** $0.0$ of $0.5$\n",
        "**Comments:** None\n",
        "\n",
        "---"
      ]
    },
    {
      "metadata": {
        "id": "d8yPsTha11Lk",
        "colab_type": "text"
      },
      "cell_type": "markdown",
      "source": [
        "#### 2.4. Hyperparameters\n",
        "Next, we will experiment with three hyperparameters:\n",
        "\n",
        "i) regularization parameter $\\lambda$ <br />\n",
        "ii) learning rate $\\epsilon$ <br />\n",
        "iii) order of polynomial *p*\n",
        "\n",
        "And do a grid search over the values that these hyperparameters can take in order to select the best combination (i.e. the one that achieves lowest test error). This approach is called **hyperparameter optimization or tuning**."
      ]
    },
    {
      "metadata": {
        "id": "-hK8zYoz11Lo",
        "colab_type": "code",
        "outputId": "ebe1a042-9e60-4a89-8e1a-bb2e2b762bcc",
        "colab": {
          "base_uri": "https://localhost:8080/",
          "height": 134
        }
      },
      "cell_type": "code",
      "source": [
        "# Fix possible hyperparameters\n",
        "polynomial_orders = [1, 5, 9]\n",
        "learning_rates = [1e-5, 1e-8]\n",
        "lambdas = [0.1, 0.8]\n",
        "\n",
        "# Fix batch size\n",
        "batch_size = 64\n",
        "\n",
        "# Get data as NumPy array\n",
        "data_np = data.values\n",
        "print(data_np)"
      ],
      "execution_count": 0,
      "outputs": [
        {
          "output_type": "stream",
          "text": [
            "[[ 7.    0.27  0.36 ...  0.45  8.8   6.  ]\n",
            " [ 6.3   0.3   0.34 ...  0.49  9.5   6.  ]\n",
            " [ 8.1   0.28  0.4  ...  0.44 10.1   6.  ]\n",
            " ...\n",
            " [ 6.5   0.24  0.19 ...  0.46  9.4   6.  ]\n",
            " [ 5.5   0.29  0.3  ...  0.38 12.8   7.  ]\n",
            " [ 6.    0.21  0.38 ...  0.32 11.8   6.  ]]\n"
          ],
          "name": "stdout"
        }
      ]
    },
    {
      "metadata": {
        "id": "bqU7bYvZ3sV4",
        "colab_type": "code",
        "outputId": "40dea1d8-818f-48f7-f713-807cac7b021f",
        "colab": {
          "base_uri": "https://localhost:8080/",
          "height": 134
        }
      },
      "cell_type": "code",
      "source": [
        "from sklearn import utils\n",
        "data_np.shape\n",
        "utils.shuffle(data_np)"
      ],
      "execution_count": 0,
      "outputs": [
        {
          "output_type": "execute_result",
          "data": {
            "text/plain": [
              "array([[ 6.4  ,  0.25 ,  0.57 , ...,  0.4  ,  9.5  ,  5.   ],\n",
              "       [ 6.2  ,  0.28 ,  0.57 , ...,  0.36 , 11.5  ,  6.   ],\n",
              "       [ 6.4  ,  0.31 ,  0.5  , ...,  0.53 , 11.9  ,  7.   ],\n",
              "       ...,\n",
              "       [ 5.8  ,  0.27 ,  0.4  , ...,  0.45 , 10.3  ,  6.   ],\n",
              "       [ 6.7  ,  0.35 ,  0.48 , ...,  0.47 ,  9.4  ,  5.   ],\n",
              "       [ 7.6  ,  0.285,  0.32 , ...,  0.45 ,  9.2  ,  5.   ]])"
            ]
          },
          "metadata": {
            "tags": []
          },
          "execution_count": 16
        }
      ]
    },
    {
      "metadata": {
        "id": "wRdynXbS11Ls",
        "colab_type": "text"
      },
      "cell_type": "markdown",
      "source": [
        "#### 2.5. Normalization\n",
        "First of all, inspect the data, and understand its structure and features. Ideally, before starting to train our learning algorithm, we would want the data to be normalized. Here, we normalize the data (i.e. normalize each column) using the formula:\n",
        "\n",
        "\\begin{equation*}\n",
        "  norm\\_x_i = \\frac{x_i - min(x)}{max(x) - min(x)}\n",
        "\\end{equation*}\n",
        "where $x_i$ is the $i^{th}$ sample in feature $x$. Note that this formula is different to the formula in the PCA part.\n",
        "\n",
        "**Task 7:** Complete the following function which performs normalization (i.e. normalizes columns of $X$). (1 point)"
      ]
    },
    {
      "metadata": {
        "id": "2h-nhA2T11Lt",
        "colab_type": "code",
        "outputId": "6200d51a-36da-48e2-ec44-5108e12046f0",
        "colab": {
          "base_uri": "https://localhost:8080/",
          "height": 353
        }
      },
      "cell_type": "code",
      "source": [
        "def data_normalization(data):\n",
        "    # TODO: implement\n",
        "    data_new = data\n",
        "    #print(data_new.shape)\n",
        "    data_min = data_new.min(axis=0)\n",
        "    data_max = data_new.max(axis=0)\n",
        "    norm_data = (data_new-data_min)/(data_max-data_min)\n",
        "    #print(norm_data.shape)\n",
        "    #print(data_max)\n",
        "    #print(data_min)\n",
        "    return norm_data\n",
        "\n",
        "# Perform data normalization\n",
        "data_np = data_normalization(data)\n",
        "print(data_np[:5])  # print first 5 rows"
      ],
      "execution_count": 0,
      "outputs": [
        {
          "output_type": "stream",
          "text": [
            "   fixed acidity  volatile acidity  citric acid  residual sugar  chlorides  \\\n",
            "0       0.307692          0.186275     0.216867        0.308282   0.106825   \n",
            "1       0.240385          0.215686     0.204819        0.015337   0.118694   \n",
            "2       0.413462          0.196078     0.240964        0.096626   0.121662   \n",
            "3       0.326923          0.147059     0.192771        0.121166   0.145401   \n",
            "4       0.326923          0.147059     0.192771        0.121166   0.145401   \n",
            "\n",
            "   free sulfur dioxide  total sulfur dioxide   density        pH  sulphates  \\\n",
            "0             0.149826              0.373550  0.267785  0.254545   0.267442   \n",
            "1             0.041812              0.285383  0.132832  0.527273   0.313953   \n",
            "2             0.097561              0.204176  0.154039  0.490909   0.255814   \n",
            "3             0.156794              0.410673  0.163678  0.427273   0.209302   \n",
            "4             0.156794              0.410673  0.163678  0.427273   0.209302   \n",
            "\n",
            "    alcohol  quality  \n",
            "0  0.129032      0.5  \n",
            "1  0.241935      0.5  \n",
            "2  0.338710      0.5  \n",
            "3  0.306452      0.5  \n",
            "4  0.306452      0.5  \n"
          ],
          "name": "stdout"
        }
      ]
    },
    {
      "metadata": {
        "id": "KsH_y89U11Lz",
        "colab_type": "text"
      },
      "cell_type": "markdown",
      "source": [
        "---\n",
        "**Points:** $0.0$ of $1.0$\n",
        "**Comments:** None\n",
        "\n",
        "---"
      ]
    },
    {
      "metadata": {
        "id": "_HdF3uJd11Lz",
        "colab_type": "text"
      },
      "cell_type": "markdown",
      "source": [
        "**Question 5:** How is the normalization here different from the standardization implemented in the PCA exercise (see Question 4 in the PCA part)? (1 point)"
      ]
    },
    {
      "metadata": {
        "id": "aym0bFdw11L1",
        "colab_type": "text"
      },
      "cell_type": "markdown",
      "source": [
        "*Answer:*   Normalization rescales the values between 0 and 1 [0,1], hence the values have a positive scale. Standardization in PCA rescales the values to have a 0 mean and a Standard Deviation of 1."
      ]
    },
    {
      "metadata": {
        "id": "2wfgrgck11L2",
        "colab_type": "text"
      },
      "cell_type": "markdown",
      "source": [
        "---\n",
        "**Points:** $0.0$ of $1.0$\n",
        "**Comments:** None\n",
        "\n",
        "---"
      ]
    },
    {
      "metadata": {
        "id": "BXeN1vuG11L3",
        "colab_type": "code",
        "colab": {}
      },
      "cell_type": "code",
      "source": [
        "# Split the data into training, validation, and test data\n",
        "def split_data(data, n_train=3898, n_val=500, n_test=500):\n",
        "    # (in-place) shuffling of data_npr along axis 0\n",
        "    #print(\"In foo()\")\n",
        "    #print(data.shape)\n",
        "    utils.shuffle(data)\n",
        "\n",
        "    n_val = n_train + n_val\n",
        "    n_test = n_train + n_test\n",
        "    \n",
        "    X_train = data.iloc[0:n_train,:-1].values\n",
        "    Y_train = data.iloc[0:n_train,-1].values\n",
        "    \n",
        "    X_val = data.iloc[n_train:n_val, 0:-1].values\n",
        "    Y_val = data.iloc[n_train:n_val, -1].values\n",
        "    \n",
        "    X_test = data.iloc[n_test:, 0:-1].values\n",
        "    Y_test = data.iloc[n_test:, -1].values\n",
        "    \n",
        "    #print(\"I am in foo()\")\n",
        "    \n",
        "    return [(X_train, Y_train), (X_val, Y_val), (X_test, Y_test)]\n",
        "\n",
        "\n",
        "# Shuffle only the training data along axis 0\n",
        "def shuffle_train_data(X_train, Y_train):\n",
        "    \"\"\"called after each epoch\"\"\"\n",
        "    perm = np.random.permutation(len(Y_train))\n",
        "    Xtr_shuf = X_train[perm]\n",
        "    Ytr_shuf = Y_train[perm]\n",
        "    \n",
        "    return Xtr_shuf, Ytr_shuf"
      ],
      "execution_count": 0,
      "outputs": []
    },
    {
      "metadata": {
        "id": "MiCwz1Iy11L7",
        "colab_type": "text"
      },
      "cell_type": "markdown",
      "source": [
        "#### 2.6. Implementation of required functions\n",
        "\n",
        "**Task 8:** Complete the following function which computes the MSE value. You can ignore the regularization term and also the constants $\\frac{1}{2}$. (0.5 point)"
      ]
    },
    {
      "metadata": {
        "id": "1IzekSPW11L9",
        "colab_type": "code",
        "colab": {}
      },
      "cell_type": "code",
      "source": [
        "# Compute Mean Squared Error \n",
        "def compute_mse(prediction, ground_truth):\n",
        "    '''\n",
        "    :param prediction: a nx1 vector represents the prediciton of your model\n",
        "    :param ground_truth: a nx1 vector represents the ground_truth\n",
        "    :return: MSE loss\n",
        "    '''\n",
        "    # TODO: implement\n",
        "    mse = 0.0\n",
        "    mse = np.square(np.subtract(prediction, ground_truth)).mean()\n",
        "    return mse"
      ],
      "execution_count": 0,
      "outputs": []
    },
    {
      "metadata": {
        "id": "lPtnr14n11MA",
        "colab_type": "text"
      },
      "cell_type": "markdown",
      "source": [
        "---\n",
        "**Points:** $0.0$ of $0.5$\n",
        "**Comments:** None\n",
        "\n",
        "---"
      ]
    },
    {
      "metadata": {
        "id": "-LuVYSJU11MB",
        "colab_type": "text"
      },
      "cell_type": "markdown",
      "source": [
        "**Task 9:** Implement a function which computes the prediction of your model. (0.5 point)"
      ]
    },
    {
      "metadata": {
        "id": "HliE1nte11MD",
        "colab_type": "code",
        "colab": {}
      },
      "cell_type": "code",
      "source": [
        "def get_prediction(X, W):\n",
        "    '''\n",
        "    Given a design matrix X (could be a batch) and parameters W, calculate the prediction Y.\n",
        "    :param X: desgin matrix X of dimension nxd, where n is the number of data points (in the batch).\n",
        "    :param W: parameters\n",
        "    :return: the predictions\n",
        "    '''\n",
        "    # TODO: implement\n",
        "    pred = None\n",
        "    pred = np.matmul(X,W)\n",
        "   # print(pred)\n",
        "    return pred"
      ],
      "execution_count": 0,
      "outputs": []
    },
    {
      "metadata": {
        "id": "Hg_DmWPZ11MG",
        "colab_type": "text"
      },
      "cell_type": "markdown",
      "source": [
        "---\n",
        "**Points:** $0.0$ of $0.5$\n",
        "**Comments:** None\n",
        "\n",
        "---"
      ]
    },
    {
      "metadata": {
        "id": "mIZgGNnQ11MH",
        "colab_type": "text"
      },
      "cell_type": "markdown",
      "source": [
        "**Task 10:** Implement a function which computes the gradient of your loss function. That is, implement the gradient computed in Task 5. (0.5 point)"
      ]
    },
    {
      "metadata": {
        "id": "Zd-R2LhT11MI",
        "colab_type": "code",
        "colab": {}
      },
      "cell_type": "code",
      "source": [
        "def compute_gradient(X, Y, Yhat, W, lambda_):\n",
        "    '''\n",
        "    :param X: designmatrix X\n",
        "    :param Y: ground truth labels correspoinding to X\n",
        "    :param Yhat: predicted labels\n",
        "    :param W: parameters\n",
        "    :param lambda_: coefficient for the regularizer\n",
        "    :return: gradient w.r.t W\n",
        "    '''\n",
        "    # TODO: implement\n",
        "    grad = None\n",
        "    grad = (-2*np.matmul((X.T),(Y-Yhat)))+((2*lambda_*W))\n",
        "   # print(grad)\n",
        "    \n",
        "    return grad"
      ],
      "execution_count": 0,
      "outputs": []
    },
    {
      "metadata": {
        "id": "3FpiAVjS11MO",
        "colab_type": "text"
      },
      "cell_type": "markdown",
      "source": [
        "---\n",
        "**Points:** $0.0$ of $0.5$\n",
        "**Comments:** None\n",
        "\n",
        "---"
      ]
    },
    {
      "metadata": {
        "id": "pBKbcIn911MQ",
        "colab_type": "text"
      },
      "cell_type": "markdown",
      "source": [
        "**Task 11:** Implement a function which performs a single update step of SGD. (0.5 point)"
      ]
    },
    {
      "metadata": {
        "id": "KFbZfyNx11MS",
        "colab_type": "code",
        "colab": {}
      },
      "cell_type": "code",
      "source": [
        "# Hint: avoid in-place modification\n",
        "def sgd(gradient, lr, cur_W):\n",
        "    '''\n",
        "    :param gradient: gradient at cur_W\n",
        "    :param lr: learning rate\n",
        "    :param cur_W: current value of parameters\n",
        "    :return: apply gradient descent\n",
        "    '''\n",
        "    # TODO: implement\n",
        "    new_weights = None\n",
        "    new_weights = cur_W - (lr*gradient)\n",
        "    #print(new_weights)\n",
        "    return new_weights"
      ],
      "execution_count": 0,
      "outputs": []
    },
    {
      "metadata": {
        "id": "Di3Y3jmO11MZ",
        "colab_type": "text"
      },
      "cell_type": "markdown",
      "source": [
        "---\n",
        "**Points:** $0.0$ of $0.5$\n",
        "**Comments:** None\n",
        "\n",
        "---"
      ]
    },
    {
      "metadata": {
        "id": "zUtdtgi211Ma",
        "colab_type": "text"
      },
      "cell_type": "markdown",
      "source": [
        "**Task 12:** Complete the following function which reformats your data as a design matrix. (0.5 point)"
      ]
    },
    {
      "metadata": {
        "id": "ZQrUPXlV11Mb",
        "colab_type": "code",
        "colab": {}
      },
      "cell_type": "code",
      "source": [
        "# concatenate X acc. to order of polynomial; likewise do it for W\n",
        "# where X is design matrix, W is the corresponding weight vector\n",
        "# concatenate matrix X horizontally, concatenate W vertically. That is, after this transformation, X gets broader and W gets longer\n",
        "# [1 X X^2 X^3], [1 W1 W2 W3].T.\n",
        "# \n",
        "from sklearn.preprocessing import PolynomialFeatures\n",
        "def prepare_data_matrix(X, W, order):\n",
        "  \n",
        "  \n",
        "    # TODO: implement\n",
        "  '''\n",
        "    :param X: design matrix X\n",
        "    :param W: weight vector W\n",
        "    :param order: order of the polynomial\n",
        "    :return: extended X and W \n",
        "    '''\n",
        "   # X, W = None, None\n",
        " # p = PolynomialFeatures(degree=order).fit(X)\n",
        " # print(p.get_feature_names(data.columns))\n",
        "  X_ = np.append(np.ones((X.shape[0],1)),X,axis=1)\n",
        "  W_ = np.append([1],W)\n",
        "  #print(X_.shape)\n",
        "  #print(X.shape,W.shape)\n",
        "  for i in range(2,order+1):\n",
        "    X_ = np.append(X_,(np.power(X,i)),axis=1)\n",
        "    W_ = np.append(W_,W,axis=0)\n",
        "  \n",
        "  #print(X_.shape, W_.shape)\n",
        "  return X_, W_.T    \n"
      ],
      "execution_count": 0,
      "outputs": []
    },
    {
      "metadata": {
        "id": "krxVkEMKsHQ4",
        "colab_type": "code",
        "outputId": "77ab2c73-664b-445e-e39d-f7f04560b10c",
        "colab": {
          "base_uri": "https://localhost:8080/",
          "height": 67
        }
      },
      "cell_type": "code",
      "source": [
        "A=np.array([[1,0],[0,1],[2,1]])\n",
        "W=np.array([1,2])\n",
        "prepare_data_matrix(A,W,1)"
      ],
      "execution_count": 0,
      "outputs": [
        {
          "output_type": "execute_result",
          "data": {
            "text/plain": [
              "(array([[1., 1., 0.],\n",
              "        [1., 0., 1.],\n",
              "        [1., 2., 1.]]), array([1, 1, 2]))"
            ]
          },
          "metadata": {
            "tags": []
          },
          "execution_count": 24
        }
      ]
    },
    {
      "metadata": {
        "id": "P9D4B-1J11Mf",
        "colab_type": "text"
      },
      "cell_type": "markdown",
      "source": [
        "---\n",
        "**Points:** $0.0$ of $0.5$\n",
        "**Comments:** None\n",
        "\n",
        "---"
      ]
    },
    {
      "metadata": {
        "id": "G7bcbFg111Mh",
        "colab_type": "text"
      },
      "cell_type": "markdown",
      "source": [
        "#### 2.7. Training\n",
        "\n",
        "**Task 13:** Complete the code in the following cell such that it performs **mini-batch gradient descent** on the training data for all possible hyperparameter combinations. (5 points)\n",
        "\n",
        "Note: You can also define a function, named appropriately, which performs training. But, take care to do correct bookkeeping of hyperparameter combinations, weight vectors, and the MSE values."
      ]
    },
    {
      "metadata": {
        "id": "vKyhntsz11Mj",
        "colab_type": "code",
        "outputId": "19c3740f-24c0-4757-ba3b-7ea4099977ac",
        "colab": {
          "base_uri": "https://localhost:8080/",
          "height": 50
        }
      },
      "cell_type": "code",
      "source": [
        "# Get the data\n",
        "splits = split_data(data_np)\n",
        "X_train, Y_train, X_val, Y_val, X_test, Y_test = itertools.chain(*splits)\n",
        "\n",
        "# Set tolerance value\n",
        "tolerance = 1e-3\n",
        "start = 1\n",
        "\n",
        "# Initialize weight vector\n",
        "print(X_train.shape)\n",
        "W_init = np.random.randn(X_train.shape[1])\n",
        "print(W_init.shape)"
      ],
      "execution_count": 0,
      "outputs": [
        {
          "output_type": "stream",
          "text": [
            "(3898, 11)\n",
            "(11,)\n"
          ],
          "name": "stdout"
        }
      ]
    },
    {
      "metadata": {
        "id": "zCTOLHZe11Mn",
        "colab_type": "code",
        "colab": {}
      },
      "cell_type": "code",
      "source": [
        "#def train(X_train, W_init, polynomial_orders, learning_rates, lambdas,batch_size,Y_train,X_val,Y_val):\n",
        "def train(X_train, W_init, polynomial_orders, learning_rates, lambdas):\n",
        "    # Compute all hyperparameter combination\n",
        "    #hparams_comb =[]\n",
        "    comb_gen = itertools.product(*(polynomial_orders, learning_rates, lambdas))\n",
        "    hparams_comb = list(comb_gen)\n",
        "    \n",
        "    print(hparams_comb)\n",
        "\n",
        "    # Cache weights for each hyperparam combination\n",
        "    weights_hist = {hpm:0 for hpm in hparams_comb}\n",
        "    mse_dict = {hpm:0 for hpm in hparams_comb}\n",
        "    mse_hist = []\n",
        "    mse_old =0\n",
        "    print(mse_dict)\n",
        "    # Find optimal hyperparameters\n",
        "    for order in polynomial_orders:\n",
        "        for lr in learning_rates:\n",
        "            for lamb in lambdas:\n",
        "                # Initialize \n",
        "                mse_hist.append(np.inf)\n",
        "                #print(mse_hist)\n",
        "                mse_diff = np.inf\n",
        "                epochs = 1\n",
        "                # TODO: Prepare data matrix\n",
        "                x_new,w_new = prepare_data_matrix(X_train, W_init,order)\n",
        "                #print(\"dhbundnm\",x_new.shape,w_new.shape)\n",
        "                while True:\n",
        "                    # TODO: shuffle the data\n",
        "                    Xtr_shuf, Ytr_shuf = shuffle_train_data(x_new, Y_train)\n",
        "                    iteration = 1\n",
        "                    nsamples = Xtr_shuf.shape[0]\n",
        "                    bs = 0\n",
        "                    \n",
        "                    # Perform a single epoch\n",
        "                    while bs < nsamples:\n",
        "                        Xtr = Xtr_shuf[bs: bs+batch_size]\n",
        "                        Ytr = Ytr_shuf[bs: bs+batch_size]\n",
        "                     \n",
        "                        # TODO: do one step gradient descent\n",
        "                        pred = get_prediction(Xtr, w_new)\n",
        "                        #print(\"sbybbsuj\",pred.shape)\n",
        "                        #mse = compute_mse(pred, Ytr)\n",
        "                        gradient = compute_gradient(Xtr, Ytr, pred, w_new, lamb)\n",
        "                        #print(\"grad\",gradient.shape)\n",
        "                        w_new = sgd(gradient, lr, w_new)\n",
        "                        #print(\"updated_w\",w_new.shape)\n",
        "                        bs += batch_size\n",
        "                        iteration += 1\n",
        "\n",
        "                    # TODO: do predcition on the entire (shuffled) dataset, compute mse and append it to the mse_his\n",
        "                   # print(w_new.shape)\n",
        "                   # X_vaal = np.append(np.ones((X_val.shape[0],1)),X_val,axis=1)\n",
        "                    #w_neww = w_new[1:]\n",
        "                    #print(w_new.shape)\n",
        "#                     X_val2,_ = prepare_data_matrix(X_val, W_init,order)\n",
        "#                     pred = get_prediction(X_val2, w_new)\n",
        "\n",
        "                    \n",
        "                    X_shuf, Y_shuf = shuffle_train_data(Xtr_shuf, Ytr_shuf)\n",
        "                    pred = get_prediction(X_shuf, w_new)\n",
        "                    \n",
        "                    mse = compute_mse(pred, Y_shuf)\n",
        "                    mse_hist.append(mse)\n",
        "                    #print(\"MSE after epoch {} is {}\".format(epochs, round(mse, 5)))\n",
        "\n",
        "                    #TODO: Stopping criterion: check whether diff-in-mse < tolerance\n",
        "                    mse_diff = np.absolute(mse- mse_old)\n",
        "                    mse_old=mse\n",
        "                    #prin3t(\"ygduhdnjijdo\",tolerance)\n",
        "                                         \n",
        "                    if mse_diff < tolerance:\n",
        "                        #cache weight vector\n",
        "                        weights_hist[(order, lr, lamb)] = w_new\n",
        "                        mse_dict[(order, lr, lamb)] = mse_hist[-1]\n",
        "                        print(\"order: {} , learning rate: {} , regularizer: {} \".format(order, lr, lamb))\n",
        "                        print(\"Convergence after epoch {} with MSE {}\".format(epochs, round(mse_hist[-1], 5)), \"\\n\")\n",
        "                        break\n",
        "                   # W_init = w_new\n",
        "                    epochs += 1\n",
        "    \n",
        "    return weights_hist, mse_hist\n",
        "  \n",
        "#train(X_train, W_init, polynomial_orders, learning_rates, lambdas, batch_size,Y_train,X_val,Y_val)"
      ],
      "execution_count": 0,
      "outputs": []
    },
    {
      "metadata": {
        "id": "GDqi20AE11Mt",
        "colab_type": "text"
      },
      "cell_type": "markdown",
      "source": [
        "---\n",
        "**Points:** $0.0$ of $5.0$\n",
        "**Comments:** None\n",
        "\n",
        "---"
      ]
    },
    {
      "metadata": {
        "id": "KSJIz-5F11Mu",
        "colab_type": "text"
      },
      "cell_type": "markdown",
      "source": [
        "**Task 14:** Complete the following function which selects the best hyperparameter combination given a list of weights (i.e. the one that gives lowest MSE on **validation data**). (1 point)"
      ]
    },
    {
      "metadata": {
        "id": "e8mPz3Hz3HMT",
        "colab_type": "code",
        "colab": {}
      },
      "cell_type": "code",
      "source": [
        "#weights_hist.keys()[0]"
      ],
      "execution_count": 0,
      "outputs": []
    },
    {
      "metadata": {
        "id": "F-Mmh6ox11Mw",
        "colab_type": "code",
        "colab": {}
      },
      "cell_type": "code",
      "source": [
        "# Select hparams of minimum MSE on Validation data\n",
        "def select_best_hparams(X_val, W):\n",
        "    hpm_best = ()\n",
        "    mse_best = np.inf\n",
        "    \n",
        "    for hpm,w in W.items():\n",
        "      X_val2,_ = prepare_data_matrix(X_val, W_init,hpm[0])\n",
        "      pred = get_prediction(X_val2, w)\n",
        "      mse=compute_mse(pred, Y_val)\n",
        "      if mse<mse_best:\n",
        "        mse_best=mse\n",
        "        hpm_best=hpm\n",
        "    \n",
        "\n",
        "    return hpm_best, mse_best"
      ],
      "execution_count": 0,
      "outputs": []
    },
    {
      "metadata": {
        "id": "ZiDm76QX11M1",
        "colab_type": "code",
        "outputId": "7d8d4b1f-652d-430a-fea1-d6ef5a9c2fb8",
        "colab": {
          "base_uri": "https://localhost:8080/",
          "height": 709
        }
      },
      "cell_type": "code",
      "source": [
        "# TODO: Train the model with all possible hyperparameter combinations\n",
        "W_init = np.random.randn(X_train.shape[1])\n",
        "weights_hist, mse_hist=train(X_train, W_init, polynomial_orders, learning_rates, lambdas)\n",
        "\n",
        "# TODO: Find best hyperparameter combination\n",
        "best_hpm_combination, best_mse = select_best_hparams(X_val,weights_hist)\n",
        "\n",
        "\n",
        "print('Best hyperamarameters (on validation data): ', best_hpm_combination)\n",
        "print('Corresponding MSE (on validation data): ', best_mse)"
      ],
      "execution_count": 0,
      "outputs": [
        {
          "output_type": "stream",
          "text": [
            "[(1, 1e-05, 0.1), (1, 1e-05, 0.8), (1, 1e-08, 0.1), (1, 1e-08, 0.8), (5, 1e-05, 0.1), (5, 1e-05, 0.8), (5, 1e-08, 0.1), (5, 1e-08, 0.8), (9, 1e-05, 0.1), (9, 1e-05, 0.8), (9, 1e-08, 0.1), (9, 1e-08, 0.8)]\n",
            "{(1, 1e-05, 0.1): 0, (1, 1e-05, 0.8): 0, (1, 1e-08, 0.1): 0, (1, 1e-08, 0.8): 0, (5, 1e-05, 0.1): 0, (5, 1e-05, 0.8): 0, (5, 1e-08, 0.1): 0, (5, 1e-08, 0.8): 0, (9, 1e-05, 0.1): 0, (9, 1e-05, 0.8): 0, (9, 1e-08, 0.1): 0, (9, 1e-08, 0.8): 0}\n",
            "order: 1 , learning rate: 1e-05 , regularizer: 0.1 \n",
            "Convergence after epoch 18 with MSE 0.19047 \n",
            "\n",
            "order: 1 , learning rate: 1e-05 , regularizer: 0.8 \n",
            "Convergence after epoch 27 with MSE 0.17616 \n",
            "\n",
            "order: 1 , learning rate: 1e-08 , regularizer: 0.1 \n",
            "Convergence after epoch 2 with MSE 0.26998 \n",
            "\n",
            "order: 1 , learning rate: 1e-08 , regularizer: 0.8 \n",
            "Convergence after epoch 1 with MSE 0.27 \n",
            "\n",
            "order: 5 , learning rate: 1e-05 , regularizer: 0.1 \n",
            "Convergence after epoch 279 with MSE 0.22089 \n",
            "\n",
            "order: 5 , learning rate: 1e-05 , regularizer: 0.8 \n",
            "Convergence after epoch 259 with MSE 0.16286 \n",
            "\n",
            "order: 5 , learning rate: 1e-08 , regularizer: 0.1 \n",
            "Convergence after epoch 2 with MSE 1.76504 \n",
            "\n",
            "order: 5 , learning rate: 1e-08 , regularizer: 0.8 \n",
            "Convergence after epoch 1 with MSE 1.76512 \n",
            "\n",
            "order: 9 , learning rate: 1e-05 , regularizer: 0.1 \n",
            "Convergence after epoch 335 with MSE 0.26035 \n",
            "\n",
            "order: 9 , learning rate: 1e-05 , regularizer: 0.8 \n",
            "Convergence after epoch 307 with MSE 0.17964 \n",
            "\n",
            "order: 9 , learning rate: 1e-08 , regularizer: 0.1 \n",
            "Convergence after epoch 2 with MSE 2.90037 \n",
            "\n",
            "order: 9 , learning rate: 1e-08 , regularizer: 0.8 \n",
            "Convergence after epoch 1 with MSE 2.90051 \n",
            "\n",
            "Best hyperamarameters (on validation data):  (1, 1e-05, 0.8)\n",
            "Corresponding MSE (on validation data):  0.1528181133843394\n"
          ],
          "name": "stdout"
        }
      ]
    },
    {
      "metadata": {
        "id": "0iHP6Cj211M7",
        "colab_type": "text"
      },
      "cell_type": "markdown",
      "source": [
        "---\n",
        "**Points:** $0.0$ of $1.0$\n",
        "**Comments:** None\n",
        "\n",
        "---"
      ]
    },
    {
      "metadata": {
        "id": "iEyr6zum11M9",
        "colab_type": "text"
      },
      "cell_type": "markdown",
      "source": [
        "#### 2.8. Re-Training on Train + Validation data\n",
        "**Task 15:** Complete the following function which does re-training on the combined training and validation data. (1 point)"
      ]
    },
    {
      "metadata": {
        "id": "bJilVMRS11M_",
        "colab_type": "code",
        "outputId": "660dc6d3-4bda-4979-fa55-216d34dcc2af",
        "colab": {
          "base_uri": "https://localhost:8080/",
          "height": 101
        }
      },
      "cell_type": "code",
      "source": [
        "# Re-run the training on X_train + X_val combined\n",
        "\n",
        "# TODO: implement\n",
        "\n",
        "X_train_comb = np.concatenate((X_train, X_val))\n",
        "Y_train_comb = np.concatenate((Y_train, Y_val))\n",
        "\n",
        "# Initialize weight vector\n",
        "W_comb_init = np.random.randn(X_train_comb.shape[1])\n",
        "\n",
        "# Use already found best hparam comb\n",
        "best_order, best_lr, best_lamb = best_hpm_combination\n",
        "\n",
        "# Get data\n",
        "X_mat, W_vec = prepare_data_matrix(X_train_comb, W_comb_init, best_order)\n",
        "\n",
        "# Run training\n",
        "# TODO: implement\n",
        "weights, mse_cache = train(X_train_comb, W_comb_init, [best_order], [best_lr], [best_lamb])"
      ],
      "execution_count": 0,
      "outputs": [
        {
          "output_type": "stream",
          "text": [
            "[(1, 1e-05, 0.8)]\n",
            "{(1, 1e-05, 0.8): 0}\n",
            "order: 1 , learning rate: 1e-05 , regularizer: 0.8 \n",
            "Convergence after epoch 19 with MSE 0.05521 \n",
            "\n"
          ],
          "name": "stdout"
        }
      ]
    },
    {
      "metadata": {
        "id": "qBiWqU_H11NS",
        "colab_type": "text"
      },
      "cell_type": "markdown",
      "source": [
        "---\n",
        "**Points:** $0.0$ of $1.0$\n",
        "**Comments:** None\n",
        "\n",
        "---"
      ]
    },
    {
      "metadata": {
        "id": "XbbLgvKt11NU",
        "colab_type": "code",
        "outputId": "82967e18-c25b-4a64-f7e5-e8fff8cca542",
        "colab": {
          "base_uri": "https://localhost:8080/",
          "height": 279
        }
      },
      "cell_type": "code",
      "source": [
        "# Let's plot the convergence of MSE values on the train+validation dataset using matplotlib, i.e. #epochs on X-axis and MSE values on Y-axis\n",
        "fig, axes = plt.subplots()\n",
        "axes.plot(mse_cache)\n",
        "axes.set_yscale('linear')\n",
        "axes.set_xlabel(\"epochs\")\n",
        "axes.set_ylabel(\"MSE\");"
      ],
      "execution_count": 0,
      "outputs": [
        {
          "output_type": "display_data",
          "data": {
            "image/png": "[encoded data removed]",
            "text/plain": [
              "<matplotlib.figure.Figure at 0x7f5b797a87f0>"
            ]
          },
          "metadata": {
            "tags": []
          }
        }
      ]
    },
    {
      "metadata": {
        "id": "CZXR5ZrK11Na",
        "colab_type": "text"
      },
      "cell_type": "markdown",
      "source": [
        "#### 2.9. Evaluation on Test set\n",
        "**Task 16:** Evaluate your model on test data. (1 point)"
      ]
    },
    {
      "metadata": {
        "id": "eA56TONS11Nc",
        "colab_type": "code",
        "outputId": "bbe1628d-c322-47b1-add5-725097f24276",
        "colab": {
          "base_uri": "https://localhost:8080/",
          "height": 34
        }
      },
      "cell_type": "code",
      "source": [
        "# test your model on X_test with the weight vector that you found above\n",
        "# this will be the generalization error of our model.\n",
        "\n",
        "# TODO: implement\n",
        "X_mat,_ = prepare_data_matrix(X_test,W_comb_init, best_order)\n",
        "pred = get_prediction(X_mat, weights[best_order, best_lr, best_lamb])\n",
        "mse_test = compute_mse(pred, Y_test)\n",
        "print(\"MSE achieved on X_test is : {}\".format(round(mse_test, 6)))"
      ],
      "execution_count": 0,
      "outputs": [
        {
          "output_type": "stream",
          "text": [
            "MSE achieved on X_test is : 0.050477\n"
          ],
          "name": "stdout"
        }
      ]
    },
    {
      "metadata": {
        "id": "y-iuDMfO11Nf",
        "colab_type": "text"
      },
      "cell_type": "markdown",
      "source": [
        "---\n",
        "**Points:** $0.0$ of $1.0$\n",
        "**Comments:** None\n",
        "\n",
        "---"
      ]
    },
    {
      "metadata": {
        "id": "32W2d3uw11Ni",
        "colab_type": "text"
      },
      "cell_type": "markdown",
      "source": [
        "#### 2.10. Results\n",
        "**Task 17:** Report the MSE value on the test data. (0.5 point)"
      ]
    },
    {
      "metadata": {
        "id": "agTKfCwd11Nn",
        "colab_type": "text"
      },
      "cell_type": "markdown",
      "source": [
        "\n",
        "\n",
        "*Answer:*  0.050477"
      ]
    },
    {
      "metadata": {
        "id": "xirjkKZ811No",
        "colab_type": "text"
      },
      "cell_type": "markdown",
      "source": [
        "---\n",
        "**Points:** $0.0$ of $0.5$\n",
        "**Comments:** None\n",
        "\n",
        "---"
      ]
    },
    {
      "metadata": {
        "id": "M_wN1lrF11N4",
        "colab_type": "text"
      },
      "cell_type": "markdown",
      "source": [
        "**Question 6:**  Which hyperparameter combination turned out to be the best? In your understanding, why do you think such a combination turned out to be the best for this task? (0.5 point)"
      ]
    },
    {
      "metadata": {
        "id": "RNtBIgdQ11N6",
        "colab_type": "text"
      },
      "cell_type": "markdown",
      "source": [
        "*Answer:*   order: 1 , learning rate: 1e-05 , regularizer: 0.8 ; One intuition for better performance with order :1 would be that with higher orders, there might be over fitting of the model and thus giving higher error (MSE) on testing. Also, with Regularizer = 0.8, somehow we are bringing the weights down as a compensation measure with the highest orders (penalize the higher orders)\n"
      ]
    },
    {
      "metadata": {
        "id": "zqCu-6O011OA",
        "colab_type": "text"
      },
      "cell_type": "markdown",
      "source": [
        "---\n",
        "**Points:** $0.0$ of $0.5$\n",
        "**Comments:** None\n",
        "\n",
        "---"
      ]
    },
    {
      "metadata": {
        "id": "9iZmTg1_11OB",
        "colab_type": "text"
      },
      "cell_type": "markdown",
      "source": [
        "## Submission instructions\n",
        "You should provide a single Jupyter notebook (.ipynb file) as the solution. Put the names and student ids of your team members below. **Make sure to submit only 1 solution to only 1 tutor.**\n",
        "\n",
        "- Jane Doe, 123456\n",
        "- Jane Doe, 123456\n",
        "- John Doe, 123456"
      ]
    },
    {
      "metadata": {
        "id": "gV6I9dFW11OC",
        "colab_type": "text"
      },
      "cell_type": "markdown",
      "source": [
        "---"
      ]
    },
    {
      "metadata": {
        "id": "vzZfK84Y11OD",
        "colab_type": "text"
      },
      "cell_type": "markdown",
      "source": [
        "## Points: 0.0 of 30.0 points"
      ]
    }
  ]
}